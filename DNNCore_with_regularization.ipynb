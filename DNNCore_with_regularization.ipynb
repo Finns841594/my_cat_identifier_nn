{
 "cells": [
  {
   "cell_type": "code",
   "execution_count": null,
   "id": "cef864e5",
   "metadata": {},
   "outputs": [],
   "source": []
  },
  {
   "cell_type": "code",
   "execution_count": 1,
   "id": "1e5a830e",
   "metadata": {},
   "outputs": [],
   "source": [
    "import numpy as np\n",
    "import matplotlib.pyplot as plt\n",
    "\n",
    "%load_ext autoreload\n",
    "%autoreload 2\n",
    "from core_functions import *\n",
    "from regu_functions import *\n",
    "\n",
    "np.random.seed(1)"
   ]
  },
  {
   "cell_type": "code",
   "execution_count": 2,
   "id": "74b53a97",
   "metadata": {},
   "outputs": [],
   "source": [
    "import h5py\n",
    "\n",
    "# Import data from datafile 'datasets/train_catvnoncat.h5', which is from the Coursera DLS\n",
    "\n",
    "train_dataset = h5py.File('datasets/train_catvnoncat.h5', \"r\") \n",
    "train_set_x_orig = np.array(train_dataset[\"train_set_x\"][:]) # your train set features\n",
    "train_set_y_orig = np.array(train_dataset[\"train_set_y\"][:]) # your train set labels\n",
    "\n",
    "test_dataset = h5py.File('datasets/test_catvnoncat.h5', \"r\")\n",
    "test_set_x_orig = np.array(test_dataset[\"test_set_x\"][:]) # your test set features\n",
    "test_set_y_orig = np.array(test_dataset[\"test_set_y\"][:]) # your test set labels\n",
    "\n",
    "classes = np.array(test_dataset[\"list_classes\"][:]) # the list of classes\n",
    "\n",
    "train_set_y_orig = train_set_y_orig.reshape((1, train_set_y_orig.shape[0]))\n",
    "test_set_y_orig = test_set_y_orig.reshape((1, test_set_y_orig.shape[0]))\n",
    "\n",
    "# simply normalizing\n",
    "\n",
    "train_x_flatten = train_set_x_orig.reshape(train_set_x_orig.shape[0], -1).T # -1 flatten the structure(64, 64, 3) into (12288)\n",
    "test_x_flatten = test_set_x_orig.reshape(test_set_x_orig.shape[0], -1).T\n",
    "\n",
    "train_x = train_x_flatten/255\n",
    "test_x = test_x_flatten/255"
   ]
  },
  {
   "cell_type": "code",
   "execution_count": 3,
   "id": "c9cf5119",
   "metadata": {},
   "outputs": [],
   "source": [
    "def L_layer_model(X, Y, layer_dims, learning_rate=0.0075, num_iterations=100, print_cost=False):\n",
    "    parameters = initialize_parameters_he(layer_dims) # update method of initilization with he_initilizer\n",
    "    costs = []\n",
    "    for i in range(num_iterations):\n",
    "        AL, caches = forward_propagation(X, parameters)\n",
    "        cost = compute_cost(AL, Y)\n",
    "        grads = backward_propagation(AL, Y, caches)\n",
    "        parameters = update_parameters(parameters, grads, learning_rate)\n",
    "        \n",
    "        if print_cost and i % 500 == 0 or i == num_iterations-1:\n",
    "            print(\"Cost after iteration {}: {}\".format(i, np.squeeze(cost)))\n",
    "        if i % 100 == 0 or i == num_iterations:\n",
    "            costs.append(cost)\n",
    "        \n",
    "    return parameters, costs"
   ]
  },
  {
   "cell_type": "code",
   "execution_count": 4,
   "id": "bfc5ca12",
   "metadata": {},
   "outputs": [
    {
     "name": "stdout",
     "output_type": "stream",
     "text": [
      "Cost after iteration 0: 1.2081250106003227\n",
      "Cost after iteration 500: 0.6434081545669109\n",
      "Cost after iteration 1000: 0.6386820153106367\n",
      "Cost after iteration 1500: 0.5880136151937356\n",
      "Cost after iteration 1999: 0.29765186197435\n"
     ]
    }
   ],
   "source": [
    "n = train_x.shape[0]\n",
    "layer_dims = [n,20,7,5,1] \n",
    "\n",
    "parameters, costs = L_layer_model(train_x, train_set_y_orig, layer_dims, learning_rate=0.0005, num_iterations=2000, print_cost=True)"
   ]
  },
  {
   "cell_type": "code",
   "execution_count": 5,
   "id": "01ce8866",
   "metadata": {},
   "outputs": [
    {
     "name": "stdout",
     "output_type": "stream",
     "text": [
      "Accuracy:  0.9377990430622007\n",
      "Accuracy:  0.72\n"
     ]
    }
   ],
   "source": [
    "p_train = predict(train_x, train_set_y_orig, parameters)\n",
    "p_test = predict(test_x, test_set_y_orig, parameters)"
   ]
  },
  {
   "cell_type": "code",
   "execution_count": 6,
   "id": "73d3a218",
   "metadata": {},
   "outputs": [],
   "source": [
    "# 经过测试发现，he_initialization在这个识别猫猫的model中的表现并不一定比random_initialization好...特别是在迭代次数低的情况下..."
   ]
  },
  {
   "cell_type": "code",
   "execution_count": 7,
   "id": "a5872ff1",
   "metadata": {},
   "outputs": [],
   "source": [
    "def L_layer_model_regularization(X, Y, layer_dims, lambd, learning_rate=0.0075, num_iterations=100, print_cost=False):\n",
    "    parameters = initialize_parameters_he(layer_dims)\n",
    "    costs = []\n",
    "    for i in range(num_iterations):\n",
    "        AL, caches = forward_propagation(X, parameters)\n",
    "        cost = compute_cost_with_regu_ltwo(AL, Y, parameters, lambd)    # updated the method of computing cost\n",
    "        grads = backward_propagation_regu(AL, Y, caches, lambd)    # updated the method of backward propagation\n",
    "        parameters = update_parameters(parameters, grads, learning_rate)\n",
    "        \n",
    "        if print_cost and i % 500 == 0 or i == num_iterations-1:\n",
    "            print(\"Cost after iteration {}: {}\".format(i, np.squeeze(cost)))\n",
    "        if i % 100 == 0 or i == num_iterations:\n",
    "            costs.append(cost)\n",
    "        \n",
    "    return parameters, costs"
   ]
  },
  {
   "cell_type": "code",
   "execution_count": 8,
   "id": "2853ef68",
   "metadata": {},
   "outputs": [
    {
     "name": "stdout",
     "output_type": "stream",
     "text": [
      "Cost after iteration 0: 0.783824615414506\n",
      "Cost after iteration 500: 0.2366166237995997\n",
      "Cost after iteration 1000: 0.03896076205324485\n",
      "Cost after iteration 1500: 0.03222658294401109\n",
      "Cost after iteration 1999: 0.030491134192427806\n",
      "Accuracy:  0.9952153110047844\n",
      "Accuracy:  0.78\n"
     ]
    }
   ],
   "source": [
    "parameters, costs = L_layer_model_regularization(train_x, train_set_y_orig, layer_dims, 0.1, learning_rate=0.0005, num_iterations=2000, print_cost=True)\n",
    "\n",
    "p_train = predict(train_x, train_set_y_orig, parameters)\n",
    "p_test = predict(test_x, test_set_y_orig, parameters)"
   ]
  },
  {
   "cell_type": "code",
   "execution_count": 9,
   "id": "45822cf4",
   "metadata": {},
   "outputs": [],
   "source": [
    "def L_layer_model_regularization_do(X, Y, layer_dims, lambd, keep_prob = 0.5, learning_rate=0.0075, num_iterations=100, print_cost=False):\n",
    "    parameters = initialize_parameters_he(layer_dims)\n",
    "    costs = []\n",
    "    for i in range(num_iterations):\n",
    "        AL, caches = forward_propagation_do(X, parameters, keep_prob)\n",
    "        cost = compute_cost_with_regu_ltwo(AL, Y, parameters, lambd)\n",
    "        grads = backward_propagation_regu_do(AL, Y, caches, lambd, keep_prob)    # updated the method of backward propagation\n",
    "        parameters = update_parameters(parameters, grads, learning_rate)\n",
    "        \n",
    "        if print_cost and i % 500 == 0 or i == num_iterations-1:\n",
    "            print(\"Cost after iteration {}: {}\".format(i, np.squeeze(cost)))\n",
    "        if i % 100 == 0 or i == num_iterations:\n",
    "            costs.append(cost)\n",
    "        \n",
    "    return parameters, costs"
   ]
  },
  {
   "cell_type": "code",
   "execution_count": 15,
   "id": "09ad1aee",
   "metadata": {},
   "outputs": [
    {
     "name": "stdout",
     "output_type": "stream",
     "text": [
      "Cost after iteration 0: 0.812352449391221\n",
      "Cost after iteration 500: 0.2560953334731207\n",
      "Cost after iteration 1000: 0.028938458378140956\n",
      "Cost after iteration 1500: 0.021877885391998246\n",
      "Cost after iteration 1999: 0.020982920923581182\n",
      "Accuracy:  0.9999999999999998\n",
      "Accuracy:  0.74\n"
     ]
    }
   ],
   "source": [
    "parameters, costs = L_layer_model_regularization_do(train_x, train_set_y_orig, layer_dims, 0.1, keep_prob = 1, learning_rate=0.0005, num_iterations=2000, print_cost=True)\n",
    "\n",
    "p_train = predict(train_x, train_set_y_orig, parameters)\n",
    "p_test = predict(test_x, test_set_y_orig, parameters)"
   ]
  },
  {
   "cell_type": "code",
   "execution_count": 14,
   "id": "21560214",
   "metadata": {},
   "outputs": [
    {
     "name": "stdout",
     "output_type": "stream",
     "text": [
      "Cost after iteration 0: 0.7322958218918726\n",
      "Cost after iteration 500: 0.6477810529699125\n",
      "Cost after iteration 1000: 0.6434716159419339\n",
      "Cost after iteration 1500: 0.6434677037736986\n",
      "Cost after iteration 2000: 0.6081680183544756\n",
      "Cost after iteration 2500: 0.5750069753749953\n",
      "Cost after iteration 3000: 0.6025910582002219\n",
      "Cost after iteration 3500: 0.5972819344939228\n",
      "Cost after iteration 3999: 0.5702758173386892\n",
      "Accuracy:  0.8755980861244017\n",
      "Accuracy:  0.6600000000000001\n"
     ]
    }
   ],
   "source": [
    "parameters, costs = L_layer_model_regularization_do(train_x, train_set_y_orig, layer_dims, 0.1, keep_prob = 0.86, learning_rate=0.0002, num_iterations=4000, print_cost=True)\n",
    "\n",
    "p_train = predict(train_x, train_set_y_orig, parameters)\n",
    "p_test = predict(test_x, test_set_y_orig, parameters)"
   ]
  },
  {
   "cell_type": "code",
   "execution_count": 11,
   "id": "11401801",
   "metadata": {},
   "outputs": [
    {
     "name": "stdout",
     "output_type": "stream",
     "text": [
      "Accuracy:  0.0\n",
      "y= 0.0, my model predict it as a 'non-cat' picture.\n"
     ]
    },
    {
     "data": {
      "image/png": "[encoded data removed]",
      "text/plain": [
       "<Figure size 432x288 with 1 Axes>"
      ]
     },
     "metadata": {
      "needs_background": "light"
     },
     "output_type": "display_data"
    }
   ],
   "source": [
    "from PIL import Image\n",
    "my_image = \"mycattest.jpg\"\n",
    "my_label_y = [1]\n",
    "num_px = 64\n",
    "\n",
    "fname = my_image # if the image is in a folder, we need to add \"folername/\" infront the file name\n",
    "image = np.array(Image.open(fname).resize((num_px, num_px))) #reshape the image to fit my propram\n",
    "plt.imshow(image)\n",
    "\n",
    "# process the raw data\n",
    "image = image/255.\n",
    "image = image.reshape((1,num_px*num_px*3)).T # our import data has the shape of(n,m), where n here particularly equals to 64*64*3 = 12288 \n",
    "my_pred = predict(image, my_label_y, parameters)\n",
    "\n",
    "print('y= ' + str(np.squeeze(my_pred)) + ', my model predict it as a \\'' + classes[int(np.squeeze(my_pred))].decode('utf-8') + '\\' picture.')\n",
    "\n",
    "# 测试block\n",
    "# 经过在基础的模型中添加he_initialization，regularization和dropout，模型的准确率从0.72-0.76-0.8，我的测试猫猫图像也能识别出来了。\n"
   ]
  },
  {
   "cell_type": "code",
   "execution_count": null,
   "id": "c16d70fa",
   "metadata": {},
   "outputs": [],
   "source": []
  },
  {
   "cell_type": "code",
   "execution_count": null,
   "id": "ad22b4c7",
   "metadata": {},
   "outputs": [],
   "source": []
  },
  {
   "cell_type": "code",
   "execution_count": null,
   "id": "af5cb054",
   "metadata": {},
   "outputs": [],
   "source": []
  },
  {
   "cell_type": "code",
   "execution_count": null,
   "id": "ace6e246",
   "metadata": {},
   "outputs": [],
   "source": []
  },
  {
   "cell_type": "code",
   "execution_count": null,
   "id": "aeb9903f",
   "metadata": {},
   "outputs": [],
   "source": []
  },
  {
   "cell_type": "code",
   "execution_count": null,
   "id": "91268d18",
   "metadata": {},
   "outputs": [],
   "source": []
  },
  {
   "cell_type": "code",
   "execution_count": null,
   "id": "30b1141d",
   "metadata": {},
   "outputs": [],
   "source": []
  },
  {
   "cell_type": "code",
   "execution_count": null,
   "id": "48ca3802",
   "metadata": {},
   "outputs": [],
   "source": []
  },
  {
   "cell_type": "code",
   "execution_count": null,
   "id": "77ae06d8",
   "metadata": {},
   "outputs": [],
   "source": []
  }
 ],
 "metadata": {
  "kernelspec": {
   "display_name": "Python 3",
   "language": "python",
   "name": "python3"
  },
  "language_info": {
   "codemirror_mode": {
    "name": "ipython",
    "version": 3
   },
   "file_extension": ".py",
   "mimetype": "text/x-python",
   "name": "python",
   "nbconvert_exporter": "python",
   "pygments_lexer": "ipython3",
   "version": "3.8.8"
  }
 },
 "nbformat": 4,
 "nbformat_minor": 5
}
